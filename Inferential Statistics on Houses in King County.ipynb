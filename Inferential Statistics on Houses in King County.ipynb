{
 "cells": [
  {
   "cell_type": "code",
   "execution_count": 14,
   "metadata": {},
   "outputs": [
    {
     "data": {
      "text/html": [
       "<div>\n",
       "<style scoped>\n",
       "    .dataframe tbody tr th:only-of-type {\n",
       "        vertical-align: middle;\n",
       "    }\n",
       "\n",
       "    .dataframe tbody tr th {\n",
       "        vertical-align: top;\n",
       "    }\n",
       "\n",
       "    .dataframe thead th {\n",
       "        text-align: right;\n",
       "    }\n",
       "</style>\n",
       "<table border=\"1\" class=\"dataframe\">\n",
       "  <thead>\n",
       "    <tr style=\"text-align: right;\">\n",
       "      <th></th>\n",
       "      <th>price</th>\n",
       "      <th>grade</th>\n",
       "    </tr>\n",
       "  </thead>\n",
       "  <tbody>\n",
       "    <tr>\n",
       "      <th>0</th>\n",
       "      <td>221900.0</td>\n",
       "      <td>7</td>\n",
       "    </tr>\n",
       "    <tr>\n",
       "      <th>1</th>\n",
       "      <td>538000.0</td>\n",
       "      <td>7</td>\n",
       "    </tr>\n",
       "    <tr>\n",
       "      <th>2</th>\n",
       "      <td>180000.0</td>\n",
       "      <td>6</td>\n",
       "    </tr>\n",
       "    <tr>\n",
       "      <th>3</th>\n",
       "      <td>604000.0</td>\n",
       "      <td>7</td>\n",
       "    </tr>\n",
       "    <tr>\n",
       "      <th>4</th>\n",
       "      <td>510000.0</td>\n",
       "      <td>8</td>\n",
       "    </tr>\n",
       "    <tr>\n",
       "      <th>5</th>\n",
       "      <td>1225000.0</td>\n",
       "      <td>11</td>\n",
       "    </tr>\n",
       "    <tr>\n",
       "      <th>6</th>\n",
       "      <td>257500.0</td>\n",
       "      <td>7</td>\n",
       "    </tr>\n",
       "    <tr>\n",
       "      <th>7</th>\n",
       "      <td>291850.0</td>\n",
       "      <td>7</td>\n",
       "    </tr>\n",
       "    <tr>\n",
       "      <th>8</th>\n",
       "      <td>229500.0</td>\n",
       "      <td>7</td>\n",
       "    </tr>\n",
       "    <tr>\n",
       "      <th>9</th>\n",
       "      <td>323000.0</td>\n",
       "      <td>7</td>\n",
       "    </tr>\n",
       "  </tbody>\n",
       "</table>\n",
       "</div>"
      ],
      "text/plain": [
       "       price  grade\n",
       "0   221900.0      7\n",
       "1   538000.0      7\n",
       "2   180000.0      6\n",
       "3   604000.0      7\n",
       "4   510000.0      8\n",
       "5  1225000.0     11\n",
       "6   257500.0      7\n",
       "7   291850.0      7\n",
       "8   229500.0      7\n",
       "9   323000.0      7"
      ]
     },
     "execution_count": 14,
     "metadata": {},
     "output_type": "execute_result"
    }
   ],
   "source": [
    "#import libraries and packages\n",
    "import pandas as pd\n",
    "import numpy as np\n",
    "import matplotlib.pyplot as plt\n",
    "import matplotlib\n",
    "from scipy import stats\n",
    "\n",
    "# read in two data files\n",
    "house = pd.read_csv('kc_house_data.csv', usecols=['price','grade'])#reads csv file but displays specified columns\n",
    "house.head(10) #displays first 10 rows\n"
   ]
  },
  {
   "cell_type": "code",
   "execution_count": 114,
   "metadata": {},
   "outputs": [
    {
     "name": "stdout",
     "output_type": "stream",
     "text": [
      "Price\n",
      "Mode:  [350000.]\n",
      "Median:  450000.0\n",
      "Count:  21613\n",
      "Mean:  540088.1417665294\n",
      "Standard deviation:  367127.19648269983\n",
      "Range:  7625000.0 \n",
      "\n",
      "Grade\n",
      "Mode:  [7]\n",
      "Median:  7\n",
      "Count:  21613\n"
     ]
    }
   ],
   "source": [
    "#descriptive statistics\n",
    "\n",
    "price=list(house['price'])#creates a list of items under price column\n",
    "grade=list(house['grade'])\n",
    "print('Price')\n",
    "print('Mode: ',stats.mode(price)[0] )#accesses mode method from stats library and returns the first item which is the modal value.\n",
    "print('Median: ',np.median(price))\n",
    "print('Count: ',len(price))\n",
    "print('Mean: ',np.mean(price))\n",
    "print('Standard deviation: ',np.std(price,ddof=1))\n",
    "print('Range: ', np.max(price)-np.min(price),'\\n')\n",
    "\n",
    "print('Grade')\n",
    "print('Mode: ',stats.mode(grade)[0] )\n",
    "print('Median: ',int(np.median(grade)))\n",
    "print('Count: ',len(grade))"
   ]
  },
  {
   "cell_type": "code",
   "execution_count": 120,
   "metadata": {},
   "outputs": [
    {
     "data": {
      "image/png": "[encoded data removed]",
      "text/plain": [
       "<Figure size 576x360 with 1 Axes>"
      ]
     },
     "metadata": {
      "needs_background": "light"
     },
     "output_type": "display_data"
    }
   ],
   "source": [
    "#Histogram for price\n",
    "\n",
    "plt.rcParams[\"figure.figsize\"] = [8,5]\n",
    "fig,ax = plt.subplots()\n",
    "ax.hist(price,label=\"Price\", edgecolor=\"black\", alpha=0.7, bins= 50)\n",
    "ax.set(xlabel = 'Prices distribution of houses ($)', ylabel = 'Frequency', title = 'Histogram showing frequency distributions for house prices')\n",
    "ax.axvline(np.mean(price), color=\"red\", linestyle=\"dashed\", linewidth=1, label=\"Mean line\")#visualization for mean and median\n",
    "ax.axvline(np.median(price), color=\"purple\", linestyle=\"dashed\", linewidth=1, label=\"Median line\")\n",
    "plt.legend()\n",
    "plt.show()\n"
   ]
  },
  {
   "cell_type": "code",
   "execution_count": 116,
   "metadata": {
    "scrolled": false
   },
   "outputs": [
    {
     "data": {
      "image/png": "[encoded data removed]",
      "text/plain": [
       "<Figure size 576x360 with 1 Axes>"
      ]
     },
     "metadata": {
      "needs_background": "light"
     },
     "output_type": "display_data"
    }
   ],
   "source": [
    "#barchart for grade distribution\n",
    "\n",
    "label=[]\n",
    "for i in range (1,14):\n",
    "    label.append(str(i))#appends grade values as strings to label list\n",
    "y_pos = np.arange(len(label))\n",
    "gf = []\n",
    "for i in range(1,14):\n",
    "    gf.append(grade.count(i))#total number of occurence for each grade in counted and stored in gf list\n",
    "\n",
    "plt.bar(y_pos, gf, align='center', alpha=0.7)\n",
    "plt.xticks(y_pos, label)\n",
    "plt.ylabel('Frequency')\n",
    "plt.xlabel('Grade')\n",
    "plt.title('Bar Chart showing frequency distributions for house grades')\n",
    "plt.grid()\n",
    "plt.show()"
   ]
  },
  {
   "cell_type": "code",
   "execution_count": 100,
   "metadata": {},
   "outputs": [
    {
     "name": "stdout",
     "output_type": "stream",
     "text": [
      "T-Score:  1.96007375697363\n",
      "0.95 % confidence interval:  [535193.3812835508, 544982.9022495081]\n"
     ]
    }
   ],
   "source": [
    "#confidence interval using t-distribution\n",
    "def confidence_interval(ci): #ci in decimal\n",
    "    df=len(price)-1 #degree of freedom\n",
    "    pestimate=np.mean(price) #point estimate of sample distribution\n",
    "    sampstd=np.std(price,ddof=1)\n",
    "    SError=sampstd/(len(price)**0.5)\n",
    "    tdf=stats.t.ppf((ci+0.025), df) #0.025 to account for both tails\n",
    "    print(\"T-Score: \",tdf)\n",
    "    lowbound = pestimate - tdf*SError\n",
    "    highbound = pestimate + tdf*SError\n",
    "    print(ci,\"% confidence interval: \",[lowbound,highbound])\n",
    "confidence_interval(0.95)"
   ]
  },
  {
   "cell_type": "code",
   "execution_count": 130,
   "metadata": {},
   "outputs": [
    {
     "name": "stdout",
     "output_type": "stream",
     "text": [
      "--Low Grade--\n",
      "count: 2313\n",
      "mean: 295041.5356679637\n",
      "std: 123556.0266136619 \n",
      "\n",
      "--High Grade--\n",
      "count: 19300\n",
      "mean: 569455.6443523316\n",
      "std: 375563.59478179424 \n",
      "\n",
      "Red dashed line= mean line, Purple dashed line= median line\n"
     ]
    },
    {
     "data": {
      "image/png": "[encoded data removed]",
      "text/plain": [
       "<Figure size 1152x288 with 2 Axes>"
      ]
     },
     "metadata": {
      "needs_background": "light"
     },
     "output_type": "display_data"
    }
   ],
   "source": [
    "#Examine the sub-groups\n",
    "\n",
    "low=list(house[house.grade < 7].values[:,0]) #creates a list of house prices whose grades values are less than 7\n",
    "high=list(house[house.grade >=7].values[:,0])\n",
    "\n",
    "def print_stats(list):#function to obtain common stats about any input list.\n",
    "    print('count:',len(list))\n",
    "    print('mean:',np.mean(list))\n",
    "    print('std:',np.std(list,ddof=1),\"\\n\")\n",
    "\n",
    "print('--Low Grade--')\n",
    "print_stats(low)\n",
    "print('--High Grade--')\n",
    "print_stats(high)\n",
    "\n",
    "def double_histogram_maker(low,high,category): #creates histogram for both low and high grade houses\n",
    "    fig, axs = plt.subplots(1,2,figsize=(16,4))\n",
    "    axs[0].hist(low);\n",
    "    axs[1].hist(high);\n",
    "    axs[0].title.set_text('Low Grade')\n",
    "    axs[1].title.set_text('High Grade')\n",
    "    axs[0].axvline(np.mean(low), color=\"red\", linestyle=\"dashed\", linewidth=1, label=\"Mean line\")\n",
    "    axs[0].axvline(np.median(low), color=\"purple\", linestyle=\"dashed\", linewidth=1, label=\"Median line\")\n",
    "    axs[1].axvline(np.mean(high), color=\"red\", linestyle=\"dashed\", linewidth=1, label=\"Mean line\")\n",
    "    axs[1].axvline(np.median(high), color=\"purple\", linestyle=\"dashed\", linewidth=1, label=\"Median line\")\n",
    "    for ax in axs.flat:\n",
    "        ax.set(xlabel=category, ylabel='Frequency')\n",
    "double_histogram_maker(low,high,'Price ($)')\n",
    "print(\"Red dashed line= mean line, Purple dashed line= median line\")"
   ]
  },
  {
   "cell_type": "code",
   "execution_count": 93,
   "metadata": {},
   "outputs": [
    {
     "name": "stdout",
     "output_type": "stream",
     "text": [
      "Standard Error:  3729.385118000082\n",
      "T-Score:  73.5815958936215\n",
      "p-value = 0.0\n",
      "Cohens d = 0.7682374826577955\n",
      "Hedges g = 0.7682108210143082\n"
     ]
    }
   ],
   "source": [
    "def dofmeans(tails):\n",
    "    n1 = len(low)\n",
    "    n2 = len(high)\n",
    "\n",
    "    x1 = np.mean(low)\n",
    "    x2 = np.mean(high)\n",
    "\n",
    "    s1 = np.std(low,ddof=1) # Bessel’s correction\n",
    "    s2 = np.std(high,ddof=1)\n",
    "\n",
    "    SE = np.sqrt(s1**2/n1 + s2**2/n2)\n",
    "    print(\"Standard Error: \",SE)\n",
    "    Tscore = np.abs((x2 - x1)/SE)\n",
    "    print(\"T-Score: \", Tscore)\n",
    "    df = min(n1,n2) - 1 # conservative estimate for degree of freedom\n",
    "    pvalue = tails*stats.t.cdf(-Tscore,df)\n",
    "\n",
    "    SDpooled = np.sqrt((s1**2*(n1-1) + s2**2*(n2-1))/(n1+n2-2))\n",
    "    Cohensd = (x2 - x1)/SDpooled\n",
    "    correctionf=(1-(3/(4*(n1+n2)-9)))\n",
    "    Hedgesg = Cohensd*correctionf\n",
    "\n",
    "    print('p-value =',pvalue)\n",
    "    print('Cohens d =',Cohensd)\n",
    "    print('Hedges g =',Hedgesg)\n",
    "dofmeans(2)"
   ]
  },
  {
   "cell_type": "code",
   "execution_count": null,
   "metadata": {},
   "outputs": [],
   "source": []
  }
 ],
 "metadata": {
  "kernelspec": {
   "display_name": "Python 3",
   "language": "python",
   "name": "python3"
  },
  "language_info": {
   "codemirror_mode": {
    "name": "ipython",
    "version": 3
   },
   "file_extension": ".py",
   "mimetype": "text/x-python",
   "name": "python",
   "nbconvert_exporter": "python",
   "pygments_lexer": "ipython3",
   "version": "3.7.0"
  }
 },
 "nbformat": 4,
 "nbformat_minor": 2
}
