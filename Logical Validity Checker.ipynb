{
 "cells": [
  {
   "cell_type": "markdown",
   "metadata": {},
   "source": [
    "Question.\n",
    "Would you rather be a reverse centaur or a reverse mermaid/merman?\n",
    "PART I\n",
    "\n",
    "I would rather be a reverse centaur\n",
    "DEDUCTION- \n",
    "if I am not a  reverse centaur, I am  a normal organism\n",
    "if I am a normal organism, then I want to be accepted in this world\n",
    "I do not want to be accepted in this world\n",
    "Therefore I would rather be a reverse centaur\n",
    "\n",
    "FALLACY-\n",
    "If you are a  reverse centaur, you are  a rare organism\n",
    "if you are a rare organism, then you are famous in this world\n",
    "I will  want be famous in this world\n",
    "Therefore I would rather be a reverse centaur\n",
    "\n",
    "ANALYSIS\n",
    "1-Deductive reasoning since the conclusion necessarily follows from the premises.\n",
    "You can see that from first to second sentence is hypothetical syllogism which can be compressed to be (if you are not a reverse centaur you want to be accepted).Then since the last premise states i do not want to be accepted, it means you then want to be a reverse centaur. the premises are acceptable so the conclusion must be acceptable. \n",
    "-Second argument one is deductive as well following from the first one using hypothetical syllogism but then the only error was in the structure of the argument. The consequent was affirmed making it fallacious, although it is deductive. The conclusion of being a reverse centaur follows from the premises of ultimately being famous in this world.\n",
    "\n",
    "2.i. A: I am/would be a reverse centaur\n",
    "     B: I am a normal organism\n",
    "     C: I want to be accepted in this world\n",
    "\n",
    "    ~A-->B\n",
    "    B-->C \n",
    "    ~C           ;\n",
    "    Therefore A\n",
    "\n",
    "ii. (~A-->B) = ( A or B); negation would be (not A and not B): I am not reverse centaur and I am not an organism.\n",
    "    (B-->C)= (not B or C); negation would be (B and not C): I am a normal organism and I do not want to be accepted in this world.\n",
    "\n",
    "iii. Using Formal Proof;\n",
    "    1.~A-->B\n",
    "    2.B-->C \n",
    "    3.~C           ; Therefore A\n",
    "\n",
    "    ---\n",
    "    4.~A-->C   ;  1,2 Hypothetical syllogism\n",
    "    5.A             ;   4,3 Modus tollens\n",
    "\n",
    "iv.OPTIONAL: Negating the entire argument we get:\n",
    "    I am not reverse centaur and I am not an organism.    \n",
    "    I am a normal organism and I do not want to be accepted in this world.\n",
    "    I want to be accepted in this world.\n",
    "    Therefore I would rather not be a reverse centaur.\n",
    "    -Evaluating its validity using a truth table we get;\n",
    "\n",
    "    A B C ~A&~B B&~C ~A\n",
    "    T T T  F    F    F\n",
    "    T T F  F    T    F\n",
    "    T F T  F    F    F\n",
    "    T F F  F    F    F\n",
    "    F T T  F    F    T\n",
    "    F T F  F    T    T\n",
    "    F F T  T    F    T\n",
    "    F F F  T    F    T\n",
    "\n",
    "    - From the table we can see that the negation is invalid because no single row shows all true premises and a true conclusion as well.\n",
    "\n",
    "v. - For soundness, two criteria must be satisfied, one the argument has to be valid and the premises have to be true. With my argument it has been proven above formally that it is indeed valid. However the other condition is whether all my premises are true or not. Once again placing ourselves in the context of having no knowledge about this world/universe, I consider first two premises to be statements that could either be true or false although the truth value ultimately boils down to the intent of the speaker. I as the speaker would consider first statement to be false, because the fact that you are not a reverse centaur does not mean you are a normal organism. You could be even something more abnormal. The only way to have made it true was to add another premise such as \"All organisms who are not reverse centaurs are normal in the universe.\" Same applies for second premise. Therefore the argument is valid but not sound.\n"
   ]
  },
  {
   "cell_type": "markdown",
   "metadata": {
    "colab_type": "text",
    "id": "1kcygoT5mW8T"
   },
   "source": [
    " 3.  {cited source below}\n",
    "   Title: Validity Checker\n",
    "   Author: Levitt, J\n",
    "   Date: 2019\n",
    "   Code version: 3.0\n",
    "   Availability: https://drive.google.com/file/d/1baT_GaVfav_GHkjJiSpdKzWH4vUK9TG4/view\n",
    "\n",
    "**Symbolization Key:**\n",
    "A: I am/would be a reverse centaur\n",
    "B: I am a normal organism\n",
    "C: I want to be accepted in this world\n",
    "\n",
    "\n",
    "**Argument:**\n",
    "-If I am not a  reverse centaur, I am  a normal organism\n",
    "-If I am a normal organism, then I want to be accepted in this world\n",
    "-I do not want to be accepted in this world\n",
    "-Therefore I would rather be a reverse centaur"
   ]
  },
  {
   "cell_type": "code",
   "execution_count": 5,
   "metadata": {
    "colab": {},
    "colab_type": "code",
    "id": "ZcYvwR0LmW8c"
   },
   "outputs": [
    {
     "name": "stdout",
     "output_type": "stream",
     "text": [
      "A\t B\t C\t ~A->B\t B->C\t ~C\t A/conclusion\n",
      "True \t True \t True \t True \t True \t False \t True\n",
      "True \t True \t False \t True \t False \t True \t True\n",
      "True \t False \t True \t True \t True \t False \t True\n",
      "True \t False \t False \t True \t True \t True \t True\n",
      "False \t True \t True \t True \t True \t False \t False\n",
      "False \t True \t False \t True \t False \t True \t False\n",
      "False \t False \t True \t False \t True \t False \t False\n",
      "False \t False \t False \t False \t True \t True \t False\n",
      "\n",
      "Argument is valid\n"
     ]
    }
   ],
   "source": [
    "def implication(a,b):\n",
    "    # inputs two Boolean variables representing atomic sentences a, b\n",
    "    return not a or b # outputs the truth value of the sentence \"a -> b\"\n",
    "\n",
    "def premise1(a,b,c): #local variables a,b,or c which can be accessed in the function\n",
    "    return implication(not a, b)# outputs truth value of \"~a ->b\" by calling on implication function \n",
    "\n",
    "def premise2(a,b,c):\n",
    "    return implication(b, c) # outputs truth value of \"b ->c\" by calling on implication function\n",
    "\n",
    "def premise3(a,b,c):\n",
    "    return not c # outputs truth value of the premise \"~c\"\n",
    "\n",
    "def conclusion(a,b,c):\n",
    "    return a # outputs truth value of conclusion \"~~a equivalent to a\"\n",
    "\n",
    "def valid_checker(p1, p2, p3, concl): #inputs premises and conclusion boolean variables )\n",
    "    valid = True # variable assigned to initiate check of validity\n",
    "    print('A\\t B\\t C\\t ~A->B\\t B->C\\t ~C\\t A/conclusion') #outputs column titles/headers.\n",
    "    for a in [True,False]: # for loops to check that every boolean variable of the atomic sentences and implications are matched against other booleans to check truth value\n",
    "        for b in [True,False]:\n",
    "            for c in [True,False]:\n",
    "                print(a,'\\t',b,'\\t',c,'\\t',p1(a,b,c),'\\t',\\\n",
    "                p2(a,b,c),'\\t',p3(a,b,c),'\\t',concl(a,b,c)) # boolean variables representing atomic sentences are printed and spaced out equally with a tab distance\n",
    "                if (p1(a,b,c)==p2(a,b,c)==p3(a,b,c)==True) and (concl(a,b,c)==False): #condition to also loop through entire boolean varibles to check whether the deductive argument is valid\n",
    "                    valid=False # variable mutated if condition exists\n",
    "                    \n",
    "    if valid==True: #if else statements to check the validity of the argument\n",
    "        print(\"\\nArgument is valid\")\n",
    "    else: \n",
    "        print(\"\\nArgument is invalid\")\n",
    "\n",
    "\n",
    "valid_checker(premise1,premise2,premise3,conclusion) #overloaded function with premises and conclusion functions(each containing variables of the 3 atomic sentences) passed to it"
   ]
  },
  {
   "cell_type": "markdown",
   "metadata": {},
   "source": [
    "OVERALL EXPLANATION:\n",
    "\n",
    "In all, this code is to assess the validity of the argument above. Since our argument consists of implications and python does not have a direct function for assessing implication, we need to define one that will return the truth value of an implication. Then we now can create functions for our premises and conclusions. The first two premises call the implication function to output truth values while the last premise and conclusion basically returns the boolean value of the basic atomic sentence. The most important part is the validity_checker function that constructs our truth table. Here, we have 3 inputs,A, B, C so we expect 2^3= 8 rows of truth value statements under each of the premise and conclusion function. The 3 for loops ensures that every unique true or false would have combined with at least another true or false to give 8 columns.  Then it should go ahead to print the column heads as well as the truth table values with the premises and conclusions . There is a check for valid or invalid by setting a variable called valid to true and mutating it to false if after looping through the entire table you find a row that all premises were true yet conclusion false. This is the feature of the truth table in determining validity of an argument.\n",
    "\n"
   ]
  },
  {
   "cell_type": "markdown",
   "metadata": {},
   "source": [
    " 4.  i. Fallacy-\n",
    "    If you are a  reverse centaur, you are  a rare organism(A-->B)\n",
    "    if you are a rare organism, then you are famous in this world(B-->C)\n",
    "    I will  want be famous in this world( C)\n",
    "    Therefore I would rather be a reverse centaur(Therefore A)\n",
    "    This is a formal fallacy. precisely affirming the consequent.\n",
    "   \n",
    "ii.   The fact that you want to be famous doesn’t necessarily mean you have to be a reverse centaur.\n",
    "        To correct this it is to deal with the structure of the argument so one could change the first premise from an implication to a disjunction statement. Then negate the last premise so that the conclusion will hold as a result of disjunctive syllogism. The conclusion remains same but premises change from implication to exclusive \"or\" disjuction.\n",
    "        CORRECTION:\n",
    "        A or B {In my nightmares, a witched suggested I either be a reverse centaur or a rare organism}\n",
    "        B->C   {If you are a rare organism, then you are famous in this world}\n",
    "        A->~C  {Reverse centaurs are not famous in this world}\n",
    "        not C  {I do not want to be famous in this world}\n",
    "        Therefore A{Therefore I would rather be a reverse centaur}\n"
   ]
  },
  {
   "cell_type": "markdown",
   "metadata": {},
   "source": [
    "PART II\n",
    "Inductive: Would you rather be a reverse merman?\n",
    "    ARGUMENT\n",
    "If I am a fish, my body is covered with scales\n",
    "If I am a merman, my trunk is covered with scales\n",
    "My head is covered with scales\n",
    "Therefore I will rather be a reverse merman\n",
    "\n",
    "-The above is inductive because premises may be true but does not necessarily mean conclusion is true. The logical relation between premises and conclusion is less than 100% supporting. It is likely or probably true that you will rather be a reverse merman possibly due to having your head covered with scales or the fat that you drank only half the potion.\n",
    "-First inducutive argument is induction from analogy. I am assuming I would rather be a reverse merman just because I share a property with them(head covered with scales). I could say it is strong because the premises builds the possibility for conclusion to be true but it is not reliable because the premises are not deemed true. not all fishes may have their bodies covered with scales; Same may be said about mermen. To build a stronger argument, they could have added premises such as all fishes have body covered with scales and all mermen have scale trunks.\n",
    "\n",
    "FALLACIOUS:\n",
    "To transform from man to fish, you have to drink a full special potion\n",
    "A renowned witch claimed if you drink more or less than half the potion you die. \n",
    "I rather drank only half the potion\n",
    "Therefore, I will rather be a reverse merman.\n",
    "\n",
    "The fallacies involved are informal fallacies due to the omission or a premise being misconstrued. Specifically, I picked out fallacy of evidence as it treats the second premise as if it were a different premise(say: Everyone who drinks more or less than half the potion dies). This also shows appeal to authority as a fallacy.\n",
    "Fallacies could be corrected by restating the second premise as \"The medicine contents has been distributed such that anyone who drinks more or less than half dies.\" \n"
   ]
  },
  {
   "cell_type": "markdown",
   "metadata": {},
   "source": [
    "   REFLECTION\n",
    "    1. Science of learning principles such as note taking, spaced practice techniques and appropriate examples principle helped me get conversant with the definiton of all the terms and always have them ready at finger tips. Also the examples associate and properly remember each term and definition. The use of Anki flashcards also helped with spaced practice and generation effect.\n",
    "    2. Personally, I realized the connection was a transitioning from avoiding biased decisions. natural language permits a lot of ambiguity and biased opinions which is not observant in computer code and formal logic. Also they all complement each other to help provide deep understanding of terms and topics involved in logical thinking. Sometimes, natural language depending on the interpretive lens and context placed one argument in either deductive or inductive terms. At those points the intentions of the speaker is the main evaluator.(#interpretive lens, #context)\n",
    "    3. Before the assignment I read through all the concepts we have covered in class and read the HCs as well. I took note of all the instructions to avoid being marked down. I made sure I explained answers that I noted. Also I used deliberate practice as a science of learning principle to get feedback from my course mates whether my arguments satisfied the questions.\n",
    "\n",
    "\n"
   ]
  }
 ],
 "metadata": {
  "colab": {
   "collapsed_sections": [],
   "name": "Python Validity Checker - FA 3.1.ipynb",
   "provenance": [],
   "version": "0.3.2"
  },
  "kernelspec": {
   "display_name": "Python 3",
   "language": "python",
   "name": "python3"
  },
  "language_info": {
   "codemirror_mode": {
    "name": "ipython",
    "version": 3
   },
   "file_extension": ".py",
   "mimetype": "text/x-python",
   "name": "python",
   "nbconvert_exporter": "python",
   "pygments_lexer": "ipython3",
   "version": "3.7.0"
  }
 },
 "nbformat": 4,
 "nbformat_minor": 1
}
