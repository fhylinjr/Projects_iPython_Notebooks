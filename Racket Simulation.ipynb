{
 "cells": [
  {
   "cell_type": "code",
   "execution_count": 8,
   "metadata": {
    "scrolled": false
   },
   "outputs": [
    {
     "name": "stdout",
     "output_type": "stream",
     "text": [
      "[(9, 21), (12, 21), (14, 21), (16, 21), (13, 21), (13, 21), (2, 21), (16, 21), (10, 21), (23, 21), (8, 21), (26, 21), (22, 21), (11, 21), (13, 21), (16, 21), (6, 21), (14, 21), (9, 21), (20, 21), (18, 21), (17, 21), (5, 21), (30, 21), (31, 21), (13, 21), (17, 21), (13, 21), (14, 21), (6, 21), (23, 21), (7, 21), (20, 21), (14, 21), (23, 21), (4, 21), (13, 21), (20, 21), (7, 21), (13, 21), (8, 21), (7, 21), (11, 21), (15, 21), (11, 21), (13, 21), (7, 21), (12, 21), (16, 21), (22, 21), (15, 21), (4, 21), (20, 21), (26, 21), (6, 21), (15, 21), (26, 21), (18, 21), (12, 21), (6, 21), (6, 21), (12, 21), (28, 21), (9, 21), (18, 21), (30, 21), (10, 21), (10, 21), (9, 21), (22, 21), (15, 21), (11, 21), (13, 21), (25, 21), (19, 21), (24, 21), (14, 21), (28, 21), (14, 21), (17, 21), (9, 21), (14, 21), (19, 21), (20, 21), (18, 21), (19, 21), (27, 21), (11, 21), (31, 21), (13, 21), (6, 21), (11, 21), (5, 21), (5, 21), (11, 21), (5, 21), (3, 21), (11, 21), (11, 21), (17, 21)]\n",
      "18\n",
      "82\n",
      "Probaility of you winning:  18.0 %\n",
      "None\n"
     ]
    }
   ],
   "source": [
    "from random import *\n",
    "def racket(n):\n",
    "    tAwins=0\n",
    "    tBwins=0\n",
    "    twins=0\n",
    "    wins=0\n",
    "    lst=[]\n",
    " \n",
    "    for i in range(n):\n",
    "        Awins,Bwins=iracket()\n",
    "        lst.append((Awins,Bwins))\n",
    "        if Awins>Bwins:\n",
    "            tAwins+=1\n",
    "            twins+=1\n",
    "        elif Bwins>Awins:\n",
    "            tBwins+=1\n",
    "            twins+=1\n",
    "    print(lst)\n",
    "    print(tAwins)\n",
    "    print(tBwins)\n",
    "    pro=tAwins/n\n",
    "    print(\"Probaility of you winning: \",(pro*100),\"%\")\n",
    "\n",
    "def iracket():\n",
    "    wins=0\n",
    "    serving=\"A\"\n",
    "    Awins=0\n",
    "    Bwins=0\n",
    "    while not(Awins and Bwins)==21:\n",
    "        if serving==\"A\":\n",
    "            if random()<0.6:\n",
    "                Awins+=1\n",
    "                wins+=1\n",
    "            else:\n",
    "                serving=\"B\"\n",
    "        else:\n",
    "            if serving==\"B\":\n",
    "                if random()<0.5:\n",
    "                    Bwins+=1\n",
    "                    wins+=1\n",
    "                else:\n",
    "                    serving=\"A\"\n",
    "    return Awins,Bwins\n",
    "    \n",
    "print(racket(100))\n",
    "\n"
   ]
  },
  {
   "cell_type": "code",
   "execution_count": null,
   "metadata": {},
   "outputs": [],
   "source": []
  }
 ],
 "metadata": {
  "kernelspec": {
   "display_name": "Python 3",
   "language": "python",
   "name": "python3"
  },
  "language_info": {
   "codemirror_mode": {
    "name": "ipython",
    "version": 3
   },
   "file_extension": ".py",
   "mimetype": "text/x-python",
   "name": "python",
   "nbconvert_exporter": "python",
   "pygments_lexer": "ipython3",
   "version": "3.7.0"
  }
 },
 "nbformat": 4,
 "nbformat_minor": 2
}
